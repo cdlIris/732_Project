{
 "cells": [
  {
   "cell_type": "code",
   "execution_count": 57,
   "metadata": {},
   "outputs": [],
   "source": [
    "import sys\n",
    "assert sys.version_info >= (3, 5) # make sure we have Python 3.5+\n",
    "import re\n",
    "import math\n",
    "from pyspark.sql.window import Window\n",
    "from pyspark.sql import SparkSession, functions, types\n",
    "from pyspark.ml import Pipeline\n",
    "from pyspark.ml.feature import StringIndexer, VectorAssembler, SQLTransformer\n",
    "from pyspark.ml.regression import LinearRegression, RandomForestRegressor, GBTRegressor,DecisionTreeRegressor,GBTRegressor\n",
    "from pyspark.ml.evaluation import RegressionEvaluator\n",
    "import matplotlib.pyplot as plt\n",
    "from pyspark.ml.feature import MinMaxScaler\n",
    "import pandas as pd\n",
    "spark = SparkSession.builder.appName('example code').getOrCreate()\n",
    "assert spark.version >= '2.4' # make sure we have Spark 2.4+\n",
    "spark.sparkContext.setLogLevel('WARN')\n",
    "sc = spark.sparkContext\n",
    "spark.conf.set('spark.sql.session.timeZone', 'UTC')\n",
    "\n",
    "bitcoin_schema = types.StructType([\n",
    "    types.StructField('Date', types.StringType()),\n",
    "    types.StructField('Symbol', types.StringType()),\n",
    "    types.StructField('Open', types.FloatType()),\n",
    "    types.StructField('High', types.FloatType()),\n",
    "    types.StructField('Low', types.FloatType()),\n",
    "    types.StructField('Close', types.FloatType()),\n",
    "    types.StructField('Volume BTC', types.FloatType()),\n",
    "    types.StructField('Volume USD', types.FloatType()),\n",
    "])\n",
    "tweets_schema = types.StructType([\n",
    "    types.StructField('Date', types.StringType()),\n",
    "    types.StructField('tweet', types.StringType())\n",
    "])"
   ]
  },
  {
   "cell_type": "code",
   "execution_count": 58,
   "metadata": {},
   "outputs": [],
   "source": [
    "col_order = [\"timestamp\", \"Open\", \"High\", \"Low\", \"Close\", \"Volume BTC\", \"Volume USD\"]"
   ]
  },
  {
   "cell_type": "code",
   "execution_count": 69,
   "metadata": {},
   "outputs": [
    {
     "name": "stdout",
     "output_type": "stream",
     "text": [
      "+----+-------+\n",
      "|hour|  Close|\n",
      "+----+-------+\n",
      "|   0|8766.18|\n",
      "|   1|8763.11|\n",
      "|   2|8743.32|\n",
      "|   3| 8764.7|\n",
      "|   4|8774.53|\n",
      "|   5| 8779.0|\n",
      "|   6|8768.66|\n",
      "|   7|8759.11|\n",
      "|   8| 8773.6|\n",
      "|   9|8792.58|\n",
      "|  10|8792.42|\n",
      "|  11|8767.85|\n",
      "|  12|8779.67|\n",
      "|  13|8770.65|\n",
      "|  14|8767.61|\n",
      "|  15| 8792.0|\n",
      "|  16|8789.78|\n",
      "|  17|8764.79|\n",
      "|  18| 8765.0|\n",
      "|  19|8761.04|\n",
      "|  20|8764.53|\n",
      "|  21|8779.13|\n",
      "|  22|8767.18|\n",
      "|  23|8774.37|\n",
      "+----+-------+\n",
      "\n"
     ]
    }
   ],
   "source": [
    "bitcoin_df = spark.read.csv(\"bitcoin-usd-history.csv\", schema=bitcoin_schema).cache()\n",
    "bitcoin_df = bitcoin_df.withColumn(\"timestamp\", functions.unix_timestamp(\"Date\", 'yyyy-MM-dd hh-aa').cast(\"timestamp\")).drop('Date')\n",
    "bitcoin_df = bitcoin_df.select(col_order).where(\n",
    "    (functions.unix_timestamp(functions.lit('2019-11-17 00:00:00')).cast('timestamp') > bitcoin_df[\"timestamp\"]) & \n",
    "    (bitcoin_df[\"timestamp\"] >= functions.unix_timestamp(functions.lit('2019-11-16 00:00:00')).cast('timestamp'))).sort(\"timestamp\").cache()\n",
    "bitcoin_df = bitcoin_df.select(functions.hour(\"timestamp\").alias(\"hour\"), \"Close\")\n",
    "bitcoin_df.show(24)"
   ]
  },
  {
   "cell_type": "code",
   "execution_count": 60,
   "metadata": {},
   "outputs": [
    {
     "name": "stdout",
     "output_type": "stream",
     "text": [
      "+-------------------+--------------------+\n",
      "|          timestamp|               tweet|\n",
      "+-------------------+--------------------+\n",
      "|2019-11-16 00:00:01|b'New Topic *Cono...|\n",
      "|2019-11-16 00:00:01|b'1 cent = 118 sa...|\n",
      "|2019-11-16 00:00:02|b'11/16 09:00\\xe7...|\n",
      "+-------------------+--------------------+\n",
      "only showing top 3 rows\n",
      "\n"
     ]
    }
   ],
   "source": [
    "tweet_df = spark.read.csv(\"tweets.csv\", schema=tweets_schema)\n",
    "tweet_df = tweet_df.withColumn(\"timestamp\", functions.unix_timestamp(\"Date\", 'yyyy-MM-dd HH:mm:ss').cast(\"timestamp\")).drop('Date')\n",
    "tweet_df = tweet_df.select(\"timestamp\", \"tweet\").sort(\"timestamp\").cache()\n",
    "tweet_df = tweet_df.na.drop()\n",
    "\n",
    "tweet_df.show(3)"
   ]
  },
  {
   "cell_type": "code",
   "execution_count": 61,
   "metadata": {},
   "outputs": [
    {
     "name": "stdout",
     "output_type": "stream",
     "text": [
      "+-------------------+--------------------+\n",
      "|          timestamp|       CleanedTweets|\n",
      "+-------------------+--------------------+\n",
      "|2019-11-16 00:00:01|New Topic Conor M...|\n",
      "|2019-11-16 00:00:01|1 cent 118 sats s...|\n",
      "|2019-11-16 00:00:02|11 16 09 00 xe7 x...|\n",
      "+-------------------+--------------------+\n",
      "only showing top 3 rows\n",
      "\n"
     ]
    }
   ],
   "source": [
    "import preprocessor as p\n",
    "@functions.udf(returnType=types.StringType())\n",
    "def func_udf(input_str):\n",
    "    input_str = re.sub(r'b', '', input_str)\n",
    "    p.set_options(p.OPT.URL, p.OPT.EMOJI,p.OPT.MENTION)\n",
    "    input_str = p.clean(input_str)\n",
    "    return ' '.join(re.sub(\"(@[A-Za-z0-9]+)|([^0-9A-Za-z \\t])|(\\w+:\\/\\/\\S+)\", \" \", input_str).split())\n",
    "# func_udf = udf(function_udf, StringType())\n",
    "#     return p.clean(input_str)\n",
    "    return intput_str\n",
    "CleanDF = tweet_df.withColumn('CleanedTweets', func_udf(tweet_df['tweet'])).drop(\"tweet\")\n",
    "CleanDF.show(3)"
   ]
  },
  {
   "cell_type": "code",
   "execution_count": 64,
   "metadata": {},
   "outputs": [
    {
     "name": "stdout",
     "output_type": "stream",
     "text": [
      "+-------------------+--------------------+--------+-------+--------+--------+\n",
      "|          timestamp|       CleanedTweets|negative|netural|positive|compound|\n",
      "+-------------------+--------------------+--------+-------+--------+--------+\n",
      "|2019-11-16 00:00:01|New Topic Conor M...|     0.0|    1.0|     0.0|     0.0|\n",
      "|2019-11-16 00:00:01|1 cent 118 sats s...|     0.0|    1.0|     0.0|     0.0|\n",
      "|2019-11-16 00:00:02|11 16 09 00 xe7 x...|     0.0|    1.0|     0.0|     0.0|\n",
      "|2019-11-16 00:00:02|The Bitcoin BTC p...|     0.0|    1.0|     0.0|     0.0|\n",
      "|2019-11-16 00:00:02|Bitcoin BTC nPric...|     0.0|    1.0|     0.0|     0.0|\n",
      "|2019-11-16 00:00:03|MercadoBitcoin BT...|     0.0|  0.636|   0.364|  0.6486|\n",
      "|2019-11-16 00:00:03|xe2 x8f x0 03 00 ...|     0.0|    1.0|     0.0|     0.0|\n",
      "|2019-11-16 00:00:03|NOW SHILLING SHIN...|     0.0|    1.0|     0.0|     0.0|\n",
      "|2019-11-16 00:00:03|BitcoinAverage it...|     0.0|    1.0|     0.0|     0.0|\n",
      "|2019-11-16 00:00:04|One Bitcoin now w...|     0.0|  0.888|   0.112|  0.2263|\n",
      "|2019-11-16 00:00:04|DIRV Virtual Surv...|     0.0|  0.791|   0.209|  0.5719|\n",
      "|2019-11-16 00:00:04|2019 11 16 09 00 ...|     0.0|    1.0|     0.0|     0.0|\n",
      "|2019-11-16 00:00:04|Binghamton Devils...|   0.346|  0.654|     0.0| -0.5719|\n",
      "|2019-11-16 00:00:04|Last hourly igges...|     0.0|    1.0|     0.0|     0.0|\n",
      "|2019-11-16 00:00:06|What percentage s...|     0.0|  0.825|   0.175|  0.5267|\n",
      "|2019-11-16 00:00:07|BTC xe2 x82 xa48 ...|     0.0|    1.0|     0.0|     0.0|\n",
      "|2019-11-16 00:00:07|How to Get Starte...|     0.0|  0.797|   0.203|  0.4215|\n",
      "|2019-11-16 00:00:09|Nov 15 2019 04 00...|     0.0|    1.0|     0.0|     0.0|\n",
      "|2019-11-16 00:00:09|itcoin A very eas...|     0.0|   0.72|    0.28|  0.7778|\n",
      "|2019-11-16 00:00:10|Nov 15 2019 23 59...|     0.0|    1.0|     0.0|     0.0|\n",
      "+-------------------+--------------------+--------+-------+--------+--------+\n",
      "only showing top 20 rows\n",
      "\n"
     ]
    }
   ],
   "source": [
    "from vaderSentiment.vaderSentiment import SentimentIntensityAnalyzer\n",
    "analyser = SentimentIntensityAnalyzer()\n",
    "\n",
    "@functions.udf(returnType=types.ArrayType(types.FloatType()))\n",
    "def senti_score(sentence):\n",
    "    snt = analyser.polarity_scores(sentence)\n",
    "    return ([snt['neg'], snt['neu'], snt['pos'], snt['compound']])\n",
    "\n",
    "CleanDF = CleanDF.withColumn('negative', senti_score(CleanDF['CleanedTweets'])[0])\n",
    "CleanDF = CleanDF.withColumn('netural', senti_score(CleanDF['CleanedTweets'])[1])\n",
    "CleanDF = CleanDF.withColumn('positive', senti_score(CleanDF['CleanedTweets'])[2])\n",
    "CleanDF = CleanDF.withColumn('compound', senti_score(CleanDF['CleanedTweets'])[3])\n",
    "CleanDF.show(20)"
   ]
  },
  {
   "cell_type": "code",
   "execution_count": 82,
   "metadata": {},
   "outputs": [],
   "source": [
    "GroupDF = CleanDF.sort(\"timestamp\").groupBy(functions.hour(\"timestamp\").alias(\"hour\")).agg(functions.mean(\"negative\").alias(\"negative\"),\n",
    "                                                                        functions.mean(\"netural\").alias(\"netural\"),\n",
    "                                                                        functions.mean(\"positive\").alias(\"positive\"),\n",
    "                                                                        functions.mean(\"compound\").alias(\"compound\"))"
   ]
  },
  {
   "cell_type": "code",
   "execution_count": 79,
   "metadata": {},
   "outputs": [
    {
     "name": "stdout",
     "output_type": "stream",
     "text": [
      "+----+--------------------+------------------+-------------------+-------------------+\n",
      "|hour|            negative|           netural|           positive|           compound|\n",
      "+----+--------------------+------------------+-------------------+-------------------+\n",
      "|   0|  0.0383815026890508|0.8871098259797675|0.07451156058989336|0.10336734028263933|\n",
      "|   1| 0.02983643120106268| 0.892609664941809|0.07756505582523168|  0.095049069931239|\n",
      "|   2|0.025603225983438952|0.8941225807032277| 0.0802838712329826| 0.1318983856949114|\n",
      "|   3|    0.01626720650476|0.9080607287796886|0.07567611350282001| 0.1590238854379548|\n",
      "|   4|0.019636363722383976|0.8967992418417425|0.08356439384321372|0.15350568071572165|\n",
      "|   5|0.021247899238051485|0.9036890739152411|0.07506302496840973| 0.1483575618442367|\n",
      "|   6|0.017874125964366473|0.9071783208763683| 0.0749475526773221|0.16770874070641878|\n",
      "|   7| 0.02463636359651432| 0.908185604508176|0.06718181827895794| 0.1194303028116172|\n",
      "|   8|0.028813829794129792|0.9072101059904758|0.06398404266269124|0.09528058418568144|\n",
      "|   9|0.028650108121383782| 0.910766738472953| 0.0605766738384769|0.07916306678535615|\n",
      "|  10|0.035805555577907294| 0.913330555955569|0.05086944460765355|0.04691027741775745|\n",
      "|  11|0.025914454167835128|0.9034159298667513|0.07066666699978894|0.09785073672511936|\n",
      "|  12| 0.02367386078948883|0.9050287760847764|0.07129496393157995|0.12107601782365097|\n",
      "|  13|0.026091811332676015|0.8992233251963301|0.07466997564874275|0.09619404417150665|\n",
      "|  14|0.030446475250135826|0.9033054821485016|0.06625587444061866|0.09939086131809897|\n",
      "|  15|0.023047738844276074|0.9157964814847438|0.06115577876773761|0.09695452240169347|\n",
      "|  16|0.030915887974133003|0.8901004670100792|0.07899299056364972|0.11763247609939252|\n",
      "|  17|0.027105128306608935|0.8889948711181298|0.08390000003079573| 0.1319633320069466|\n",
      "|  18| 0.03045257469664421|0.9033902439321606| 0.0661626019714486|0.08417723490414904|\n",
      "|  19| 0.02112138726764676|0.9013670504609973|0.07751156085553025|0.13344248432687597|\n",
      "|  20|0.021941504148055586|0.8969999994242092|0.08105571012850592|0.13604484541045922|\n",
      "|  21|0.031381720596904396|0.9006774181960732|0.06794086032076388|0.09061102183555723|\n",
      "|  22| 0.03189665673578039|0.8778176285032081|0.09027659535226851|0.14789239987787595|\n",
      "|  23| 0.02430795847235254|0.9023252587417417|0.07338062274853045|0.12156020722329411|\n",
      "+----+--------------------+------------------+-------------------+-------------------+\n",
      "\n"
     ]
    }
   ],
   "source": [
    "GroupDF.sort(\"hour\").show(24)"
   ]
  },
  {
   "cell_type": "code",
   "execution_count": 85,
   "metadata": {},
   "outputs": [],
   "source": [
    "join_df = GroupDF.join(bitcoin_df, GroupDF[\"hour\"] == bitcoin_df[\"hour\"]).select(GroupDF[\"*\"],bitcoin_df[\"Close\"])"
   ]
  },
  {
   "cell_type": "code",
   "execution_count": 87,
   "metadata": {},
   "outputs": [],
   "source": [
    "join_df.sort(\"hour\").write.csv('bitcoin_tweet_join.csv')"
   ]
  },
  {
   "cell_type": "code",
   "execution_count": null,
   "metadata": {},
   "outputs": [],
   "source": []
  }
 ],
 "metadata": {
  "kernelspec": {
   "display_name": "Python 3",
   "language": "python",
   "name": "python3"
  },
  "language_info": {
   "codemirror_mode": {
    "name": "ipython",
    "version": 3
   },
   "file_extension": ".py",
   "mimetype": "text/x-python",
   "name": "python",
   "nbconvert_exporter": "python",
   "pygments_lexer": "ipython3",
   "version": "3.7.4"
  }
 },
 "nbformat": 4,
 "nbformat_minor": 2
}
