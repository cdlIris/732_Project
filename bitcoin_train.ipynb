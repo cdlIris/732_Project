{
 "cells": [
  {
   "cell_type": "code",
   "execution_count": 1,
   "metadata": {},
   "outputs": [],
   "source": [
    "import sys\n",
    "assert sys.version_info >= (3, 5) # make sure we have Python 3.5+\n",
    "import re\n",
    "import math\n",
    "from pyspark.sql.window import Window\n",
    "from pyspark.sql import SparkSession, functions, types\n",
    "from pyspark.ml import Pipeline\n",
    "from pyspark.ml.feature import StringIndexer, VectorAssembler, SQLTransformer\n",
    "from pyspark.ml.regression import LinearRegression, RandomForestRegressor, GBTRegressor,DecisionTreeRegressor,GBTRegressor\n",
    "from pyspark.ml.evaluation import RegressionEvaluator\n",
    "import matplotlib.pyplot as plt\n",
    "from pyspark.ml.feature import MinMaxScaler\n",
    "import pandas as pd\n",
    "spark = SparkSession.builder.appName('example code').getOrCreate()\n",
    "assert spark.version >= '2.4' # make sure we have Spark 2.4+\n",
    "spark.sparkContext.setLogLevel('WARN')\n",
    "sc = spark.sparkContext\n",
    "spark.conf.set('spark.sql.session.timeZone', 'UTC')\n",
    "bitcoin_schema = types.StructType([\n",
    "    types.StructField('Date', types.StringType()),\n",
    "    types.StructField('Symbol', types.StringType()),\n",
    "    types.StructField('Open', types.FloatType()),\n",
    "    types.StructField('High', types.FloatType()),\n",
    "    types.StructField('Low', types.FloatType()),\n",
    "    types.StructField('Close', types.FloatType()),\n",
    "    types.StructField('Volume BTC', types.FloatType()),\n",
    "    types.StructField('Volume USD', types.FloatType()),\n",
    "])"
   ]
  },
  {
   "cell_type": "code",
   "execution_count": 3,
   "metadata": {},
   "outputs": [],
   "source": [
    "col_order = [\"timestamp\", \"Open\", \"High\", \"Low\", \"Close\", \"Volume BTC\", \"Volume USD\", \"Weighted\"]\n",
    "features = [\"Open\", \"High\", \"Low\", \"Close\", \"Weighted\"]\n",
    "\n",
    "w =Window.partitionBy().orderBy(functions.col(\"timestamp\").cast('long'))\n",
    "lag =2\n",
    "diff_lst = [i for i in range(1, lag+1)]"
   ]
  },
  {
   "cell_type": "code",
   "execution_count": 4,
   "metadata": {},
   "outputs": [
    {
     "name": "stdout",
     "output_type": "stream",
     "text": [
      "+-------------------+-------+-------+-------+-------+----------+----------+------------------+\n",
      "|          timestamp|   Open|   High|    Low|  Close|Volume BTC|Volume USD|          Weighted|\n",
      "+-------------------+-------+-------+-------+-------+----------+----------+------------------+\n",
      "|2017-07-01 11:00:00| 2562.3|2580.99| 2554.0| 2568.0|      3.04|   7781.15| 2559.588815784314|\n",
      "|2017-07-01 12:00:00| 2568.0|2577.79|2555.01|2576.58|      11.0|  28231.42|2566.4927201704545|\n",
      "|2017-07-01 13:00:00|2576.58|2576.58|2555.01|2555.08|     14.23|  36482.36|2563.7639176808143|\n",
      "|2017-07-01 14:00:00|2555.08| 2570.0| 2555.0|2556.01|     18.34|  47008.07| 2563.144488625692|\n",
      "|2017-07-01 15:00:00|2556.01| 2570.0| 2555.0| 2564.2|     18.34|  46953.85|2560.1881773089576|\n",
      "|2017-07-01 16:00:00| 2564.2|2568.99| 2555.0| 2565.0|      8.93|  22907.08|2565.1824518805647|\n",
      "|2017-07-01 17:00:00| 2565.0| 2565.0| 2549.6| 2550.0|     24.88|  63592.23|2555.9579024837312|\n",
      "|2017-07-01 18:00:00| 2550.0| 2560.0|2537.07|2537.07|      9.09|  23215.29| 2553.937147722785|\n",
      "|2017-07-01 19:00:00|2537.07|2559.63|2531.78| 2546.0|     15.09|  38329.56|  2540.06349941465|\n",
      "|2017-07-01 20:00:00| 2546.0|2559.69| 2530.0| 2531.0|     12.78|  32492.15|2542.4218364260464|\n",
      "|2017-07-01 21:00:00| 2531.0|2541.88| 2502.0|2529.93|     20.48|  51623.96| 2520.701273993431|\n",
      "|2017-07-01 22:00:00|2529.93|2529.93| 2500.0| 2505.0|     16.85|  42305.64| 2510.720455028852|\n",
      "|2017-07-01 23:00:00| 2505.0|2522.99|2500.01|2505.03|    0.8633|   2162.07|2504.4248865851305|\n",
      "|2017-07-02 00:00:00|2505.03| 2540.0|2500.01|2500.01|      2.85|   7178.43|  2518.74751438166|\n",
      "|2017-07-02 01:00:00|2500.01|2515.37|2496.59|2496.59|       2.6|   6497.44|2499.0154537426674|\n",
      "|2017-07-02 02:00:00|2496.59| 2540.0| 2490.0|2508.37|      12.6|  31931.83| 2534.272151696579|\n",
      "|2017-07-02 03:00:00|2508.37|2515.36| 2490.0| 2493.0|      1.33|   3312.69|2490.7442364775216|\n",
      "|2017-07-02 04:00:00| 2493.0| 2493.0| 2485.0| 2493.0|      2.89|   7182.18|2485.1833616176955|\n",
      "|2017-07-02 05:00:00| 2493.0| 2520.0|2486.12| 2519.0|      1.59|    3998.7|2514.9055768728585|\n",
      "|2017-07-02 06:00:00| 2519.0|2520.99| 2494.0|2495.01|      2.41|   6051.25| 2510.892026758676|\n",
      "+-------------------+-------+-------+-------+-------+----------+----------+------------------+\n",
      "only showing top 20 rows\n",
      "\n"
     ]
    }
   ],
   "source": [
    "data = spark.read.csv(\"bitcoin-usd-history.csv\", schema=bitcoin_schema).na.drop().cache()\n",
    "data = data.withColumn(\"timestamp\", functions.unix_timestamp(\"Date\", 'yyyy-MM-dd hh-aa').cast(\"timestamp\")).drop('Date')\n",
    "data = data.withColumn(\"Weighted\", data[\"Volume USD\"] / (data[\"Volume BTC\"] + sys.float_info.min))\n",
    "data = data.select(col_order).sort(\"timestamp\").cache()\n",
    "data.show()"
   ]
  },
  {
   "cell_type": "code",
   "execution_count": 5,
   "metadata": {},
   "outputs": [
    {
     "name": "stdout",
     "output_type": "stream",
     "text": [
      "+-------------------+-------+-------+-------+-------+------------------+\n",
      "|          timestamp|   Open|   High|    Low|  Close|          Weighted|\n",
      "+-------------------+-------+-------+-------+-------+------------------+\n",
      "|2017-07-01 11:00:00| 2562.3|2580.99| 2554.0| 2568.0| 2559.588815784314|\n",
      "|2017-07-01 12:00:00| 2568.0|2577.79|2555.01|2576.58|2566.4927201704545|\n",
      "|2017-07-01 13:00:00|2576.58|2576.58|2555.01|2555.08|2563.7639176808143|\n",
      "|2017-07-01 14:00:00|2555.08| 2570.0| 2555.0|2556.01| 2563.144488625692|\n",
      "|2017-07-01 15:00:00|2556.01| 2570.0| 2555.0| 2564.2|2560.1881773089576|\n",
      "|2017-07-01 16:00:00| 2564.2|2568.99| 2555.0| 2565.0|2565.1824518805647|\n",
      "|2017-07-01 17:00:00| 2565.0| 2565.0| 2549.6| 2550.0|2555.9579024837312|\n",
      "|2017-07-01 18:00:00| 2550.0| 2560.0|2537.07|2537.07| 2553.937147722785|\n",
      "|2017-07-01 19:00:00|2537.07|2559.63|2531.78| 2546.0|  2540.06349941465|\n",
      "|2017-07-01 20:00:00| 2546.0|2559.69| 2530.0| 2531.0|2542.4218364260464|\n",
      "|2017-07-01 21:00:00| 2531.0|2541.88| 2502.0|2529.93| 2520.701273993431|\n",
      "|2017-07-01 22:00:00|2529.93|2529.93| 2500.0| 2505.0| 2510.720455028852|\n",
      "|2017-07-01 23:00:00| 2505.0|2522.99|2500.01|2505.03|2504.4248865851305|\n",
      "|2017-07-02 00:00:00|2505.03| 2540.0|2500.01|2500.01|  2518.74751438166|\n",
      "|2017-07-02 01:00:00|2500.01|2515.37|2496.59|2496.59|2499.0154537426674|\n",
      "|2017-07-02 02:00:00|2496.59| 2540.0| 2490.0|2508.37| 2534.272151696579|\n",
      "|2017-07-02 03:00:00|2508.37|2515.36| 2490.0| 2493.0|2490.7442364775216|\n",
      "|2017-07-02 04:00:00| 2493.0| 2493.0| 2485.0| 2493.0|2485.1833616176955|\n",
      "|2017-07-02 05:00:00| 2493.0| 2520.0|2486.12| 2519.0|2514.9055768728585|\n",
      "|2017-07-02 06:00:00| 2519.0|2520.99| 2494.0|2495.01| 2510.892026758676|\n",
      "+-------------------+-------+-------+-------+-------+------------------+\n",
      "only showing top 20 rows\n",
      "\n"
     ]
    }
   ],
   "source": [
    "feature_df = data.select(col_order).drop(\"Volume BTC\").drop(\"Volume USD\")\n",
    "feature_df.show()"
   ]
  },
  {
   "cell_type": "code",
   "execution_count": 6,
   "metadata": {},
   "outputs": [
    {
     "name": "stdout",
     "output_type": "stream",
     "text": [
      "+-------------------+-------+-------+-------+-------+------------------+----------+----------+----------+----------+---------+---------+-----------+-----------+------------------+------------------+\n",
      "|          timestamp|   Open|   High|    Low|  Close|          Weighted|Open_lag_2|Open_lag_3|High_lag_2|High_lag_3|Low_lag_2|Low_lag_3|Close_lag_2|Close_lag_3|    Weighted_lag_2|    Weighted_lag_3|\n",
      "+-------------------+-------+-------+-------+-------+------------------+----------+----------+----------+----------+---------+---------+-----------+-----------+------------------+------------------+\n",
      "|2017-07-01 13:00:00|2576.58|2576.58|2555.01|2555.08|2563.7639176808143|    2568.0|    2562.3|   2577.79|   2580.99|  2555.01|   2554.0|    2576.58|     2568.0|2566.4927201704545| 2559.588815784314|\n",
      "|2017-07-01 14:00:00|2555.08| 2570.0| 2555.0|2556.01| 2563.144488625692|   2576.58|    2568.0|   2576.58|   2577.79|  2555.01|  2555.01|    2555.08|    2576.58|2563.7639176808143|2566.4927201704545|\n",
      "+-------------------+-------+-------+-------+-------+------------------+----------+----------+----------+----------+---------+---------+-----------+-----------+------------------+------------------+\n",
      "only showing top 2 rows\n",
      "\n"
     ]
    }
   ],
   "source": [
    "for feature in features:\n",
    "    for diff in diff_lst:\n",
    "        name = feature + \"_lag_{}\".format(diff+1)\n",
    "        feature_df = feature_df.withColumn(name, functions.lag(feature_df[feature], count=diff).over(w))\n",
    "\n",
    "feature_df = feature_df.na.drop()\n",
    "feature_df.show(2)"
   ]
  },
  {
   "cell_type": "code",
   "execution_count": 7,
   "metadata": {},
   "outputs": [
    {
     "name": "stdout",
     "output_type": "stream",
     "text": [
      "+-------------------+-------+-------+-------+-------+------------------+----------+----------+----------+----------+---------+---------+-----------+-----------+------------------+------------------+----------+\n",
      "|          timestamp|   Open|   High|    Low|  Close|          Weighted|Open_lag_2|Open_lag_3|High_lag_2|High_lag_3|Low_lag_2|Low_lag_3|Close_lag_2|Close_lag_3|    Weighted_lag_2|    Weighted_lag_3|Next Close|\n",
      "+-------------------+-------+-------+-------+-------+------------------+----------+----------+----------+----------+---------+---------+-----------+-----------+------------------+------------------+----------+\n",
      "|2017-07-01 13:00:00|2576.58|2576.58|2555.01|2555.08|2563.7639176808143|    2568.0|    2562.3|   2577.79|   2580.99|  2555.01|   2554.0|    2576.58|     2568.0|2566.4927201704545| 2559.588815784314|   2556.01|\n",
      "|2017-07-01 14:00:00|2555.08| 2570.0| 2555.0|2556.01| 2563.144488625692|   2576.58|    2568.0|   2576.58|   2577.79|  2555.01|  2555.01|    2555.08|    2576.58|2563.7639176808143|2566.4927201704545|    2564.2|\n",
      "+-------------------+-------+-------+-------+-------+------------------+----------+----------+----------+----------+---------+---------+-----------+-----------+------------------+------------------+----------+\n",
      "only showing top 2 rows\n",
      "\n"
     ]
    }
   ],
   "source": [
    "# Since Next Close presents the close price in the next hour, the current open, high, low, close\n",
    "# and weighted are actually the first lag value.\n",
    "\n",
    "feature_df = feature_df.withColumn(\"Next Close\", functions.lag(data[\"Close\"], count=-1).over(w))\n",
    "feature_df = feature_df.na.drop()\n",
    "feature_df.show(2)"
   ]
  },
  {
   "cell_type": "code",
   "execution_count": 8,
   "metadata": {},
   "outputs": [
    {
     "data": {
      "text/plain": [
       "['Open',\n",
       " 'Open_lag_2',\n",
       " 'Open_lag_3',\n",
       " 'High',\n",
       " 'High_lag_2',\n",
       " 'High_lag_3',\n",
       " 'Low',\n",
       " 'Low_lag_2',\n",
       " 'Low_lag_3',\n",
       " 'Close',\n",
       " 'Close_lag_2',\n",
       " 'Close_lag_3',\n",
       " 'Weighted',\n",
       " 'Weighted_lag_2',\n",
       " 'Weighted_lag_3']"
      ]
     },
     "execution_count": 8,
     "metadata": {},
     "output_type": "execute_result"
    }
   ],
   "source": [
    "featureCols = []\n",
    "for feature in features:\n",
    "    featureCols.append(feature)\n",
    "    for diff in diff_lst:\n",
    "        featureCols.append(feature + \"_lag_{}\".format(diff+1))\n",
    "featureCols"
   ]
  },
  {
   "cell_type": "code",
   "execution_count": 9,
   "metadata": {},
   "outputs": [],
   "source": [
    "assembler = VectorAssembler(\n",
    "        inputCols=featureCols,\n",
    "        outputCol='features'\n",
    "\n",
    ")\n",
    "\n",
    "regressor = RandomForestRegressor(\n",
    "    featuresCol='features',\n",
    "    labelCol='Next Close',\n",
    "    featureSubsetStrategy=\"auto\", \n",
    "    impurity= \"variance\",\n",
    "    numTrees=20,\n",
    "    maxDepth=7,\n",
    "    maxBins=32,\n",
    "    seed=13579\n",
    "    \n",
    ")"
   ]
  },
  {
   "cell_type": "code",
   "execution_count": 10,
   "metadata": {},
   "outputs": [
    {
     "name": "stdout",
     "output_type": "stream",
     "text": [
      "+-------------------+-------+-------+-------+-------+------------------+----------+----------+----------+----------+---------+---------+-----------+-----------+------------------+------------------+----------+\n",
      "|          timestamp|   Open|   High|    Low|  Close|          Weighted|Open_lag_2|Open_lag_3|High_lag_2|High_lag_3|Low_lag_2|Low_lag_3|Close_lag_2|Close_lag_3|    Weighted_lag_2|    Weighted_lag_3|Next Close|\n",
      "+-------------------+-------+-------+-------+-------+------------------+----------+----------+----------+----------+---------+---------+-----------+-----------+------------------+------------------+----------+\n",
      "|2017-07-01 13:00:00|2576.58|2576.58|2555.01|2555.08|2563.7639176808143|    2568.0|    2562.3|   2577.79|   2580.99|  2555.01|   2554.0|    2576.58|     2568.0|2566.4927201704545| 2559.588815784314|   2556.01|\n",
      "|2017-07-01 14:00:00|2555.08| 2570.0| 2555.0|2556.01| 2563.144488625692|   2576.58|    2568.0|   2576.58|   2577.79|  2555.01|  2555.01|    2555.08|    2576.58|2563.7639176808143|2566.4927201704545|    2564.2|\n",
      "+-------------------+-------+-------+-------+-------+------------------+----------+----------+----------+----------+---------+---------+-----------+-----------+------------------+------------------+----------+\n",
      "only showing top 2 rows\n",
      "\n"
     ]
    }
   ],
   "source": [
    "train, validation = feature_df.randomSplit([0.75, 0.25])\n",
    "train = train.cache()\n",
    "validation = validation.cache()\n",
    "train.show(2)"
   ]
  },
  {
   "cell_type": "code",
   "execution_count": 11,
   "metadata": {},
   "outputs": [],
   "source": [
    "pipeline = Pipeline(stages=[assembler, regressor])\n",
    "model = pipeline.fit(train)"
   ]
  },
  {
   "cell_type": "code",
   "execution_count": 12,
   "metadata": {},
   "outputs": [
    {
     "name": "stdout",
     "output_type": "stream",
     "text": [
      "+----------+-----------------+\n",
      "|Next Close|       prediction|\n",
      "+----------+-----------------+\n",
      "|    2546.0|2471.900865107126|\n",
      "|    2531.0|2471.900865107126|\n",
      "|    2493.0|2471.900865107126|\n",
      "+----------+-----------------+\n",
      "only showing top 3 rows\n",
      "\n"
     ]
    }
   ],
   "source": [
    "predictions = model.transform(validation)\n",
    "pred_df = predictions.select(\"Next Close\", \"prediction\")\n",
    "pred_df.show(3)"
   ]
  },
  {
   "cell_type": "code",
   "execution_count": 13,
   "metadata": {},
   "outputs": [
    {
     "data": {
      "text/plain": [
       "<matplotlib.axes._subplots.AxesSubplot at 0x11720b6d0>"
      ]
     },
     "execution_count": 13,
     "metadata": {},
     "output_type": "execute_result"
    },
    {
     "data": {
      "image/png": "[encoded data removed]",
      "text/plain": [
       "<Figure size 432x288 with 1 Axes>"
      ]
     },
     "metadata": {
      "needs_background": "light"
     },
     "output_type": "display_data"
    }
   ],
   "source": [
    "pred_pdf= pred_df.toPandas()\n",
    "pred_pdf.plot(y=[\"Next Close\", \"prediction\"])"
   ]
  },
  {
   "cell_type": "code",
   "execution_count": 14,
   "metadata": {},
   "outputs": [
    {
     "name": "stdout",
     "output_type": "stream",
     "text": [
      "R square error is: 0.99643\n"
     ]
    }
   ],
   "source": [
    "evaluator = RegressionEvaluator(predictionCol=\"prediction\", labelCol=\"Close\", metricName=\"r2\")\n",
    "score = evaluator.evaluate(predictions)\n",
    "\n",
    "print('R square error is: %g' % (score))"
   ]
  },
  {
   "cell_type": "code",
   "execution_count": 15,
   "metadata": {},
   "outputs": [],
   "source": [
    "model.write().overwrite().save(\"bitcoin_model_OHLCW\")"
   ]
  },
  {
   "cell_type": "code",
   "execution_count": null,
   "metadata": {},
   "outputs": [],
   "source": []
  }
 ],
 "metadata": {
  "kernelspec": {
   "display_name": "Python 3",
   "language": "python",
   "name": "python3"
  },
  "language_info": {
   "codemirror_mode": {
    "name": "ipython",
    "version": 3
   },
   "file_extension": ".py",
   "mimetype": "text/x-python",
   "name": "python",
   "nbconvert_exporter": "python",
   "pygments_lexer": "ipython3",
   "version": "3.7.4"
  }
 },
 "nbformat": 4,
 "nbformat_minor": 2
}
