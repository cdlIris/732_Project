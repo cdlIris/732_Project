{
 "cells": [
  {
   "cell_type": "code",
   "execution_count": 25,
   "metadata": {},
   "outputs": [],
   "source": [
    "import sys\n",
    "assert sys.version_info >= (3, 5) # make sure we have Python 3.5+\n",
    "import re\n",
    "import math\n",
    "from pyspark.sql.window import Window\n",
    "from pyspark.sql import SparkSession, functions, types\n",
    "from pyspark.ml import Pipeline\n",
    "from pyspark.ml.feature import StringIndexer, VectorAssembler, SQLTransformer\n",
    "from pyspark.ml.regression import LinearRegression, RandomForestRegressor, GBTRegressor,DecisionTreeRegressor,GBTRegressor\n",
    "from pyspark.ml.evaluation import RegressionEvaluator\n",
    "import matplotlib.pyplot as plt\n",
    "from pyspark.ml.feature import MinMaxScaler\n",
    "import pandas as pd\n",
    "spark = SparkSession.builder.appName('example code').getOrCreate()\n",
    "assert spark.version >= '2.4' # make sure we have Spark 2.4+\n",
    "spark.sparkContext.setLogLevel('WARN')\n",
    "sc = spark.sparkContext\n",
    "spark.conf.set('spark.sql.session.timeZone', 'UTC')\n",
    "\n",
    "bitcoin_schema = types.StructType([\n",
    "    types.StructField('Date', types.StringType()),\n",
    "    types.StructField('Symbol', types.StringType()),\n",
    "    types.StructField('Open', types.FloatType()),\n",
    "    types.StructField('High', types.FloatType()),\n",
    "    types.StructField('Low', types.FloatType()),\n",
    "    types.StructField('Close', types.FloatType()),\n",
    "    types.StructField('Volume BTC', types.FloatType()),\n",
    "    types.StructField('Volume USD', types.FloatType()),\n",
    "])\n",
    "tweets_schema = types.StructType([\n",
    "    types.StructField('Date', types.StringType()),\n",
    "    types.StructField('tweet', types.StringType())\n",
    "])"
   ]
  },
  {
   "cell_type": "code",
   "execution_count": 26,
   "metadata": {},
   "outputs": [],
   "source": [
    "col_order = [\"timestamp\", \"Open\", \"High\", \"Low\", \"Close\", \"Volume BTC\", \"Volume USD\"]\n",
    "tweet_col = ['negative', \"neutral\", \"positive\", \"compound\"]"
   ]
  },
  {
   "cell_type": "code",
   "execution_count": 72,
   "metadata": {},
   "outputs": [
    {
     "name": "stdout",
     "output_type": "stream",
     "text": [
      "+----+-------+-------------------+\n",
      "|hour|  Close|               date|\n",
      "+----+-------+-------------------+\n",
      "|   0|9019.76|2019-11-14 00:00:00|\n",
      "|   1| 9024.4|2019-11-14 00:00:00|\n",
      "|   2|8978.68|2019-11-14 00:00:00|\n",
      "|   3| 9024.5|2019-11-14 00:00:00|\n",
      "|   4|8946.14|2019-11-14 00:00:00|\n",
      "|   5|8931.31|2019-11-14 00:00:00|\n",
      "|   6| 8972.2|2019-11-14 00:00:00|\n",
      "|   7| 8926.0|2019-11-14 00:00:00|\n",
      "|   8| 8861.0|2019-11-14 00:00:00|\n",
      "|   9|8884.04|2019-11-14 00:00:00|\n",
      "|  10|8873.13|2019-11-14 00:00:00|\n",
      "|  11|8906.35|2019-11-14 00:00:00|\n",
      "|  12|8877.01|2019-11-14 00:00:00|\n",
      "|  13| 8961.0|2019-11-14 00:00:00|\n",
      "|  14|8948.84|2019-11-14 00:00:00|\n",
      "|  15|8923.47|2019-11-14 00:00:00|\n",
      "|  16|8922.01|2019-11-14 00:00:00|\n",
      "|  17|8927.97|2019-11-14 00:00:00|\n",
      "|  18|8913.35|2019-11-14 00:00:00|\n",
      "|  19|8903.64|2019-11-14 00:00:00|\n",
      "|  20|8939.67|2019-11-14 00:00:00|\n",
      "|  21|8905.13|2019-11-14 00:00:00|\n",
      "|  22|8887.42|2019-11-14 00:00:00|\n",
      "|  23|8903.94|2019-11-14 00:00:00|\n",
      "|   0|8909.81|2019-11-15 00:00:00|\n",
      "|   1|8815.67|2019-11-15 00:00:00|\n",
      "+----+-------+-------------------+\n",
      "only showing top 26 rows\n",
      "\n"
     ]
    }
   ],
   "source": [
    "bitcoin_df = spark.read.csv(\"bitcoin-usd-history.csv\", schema=bitcoin_schema).na.drop().cache()\n",
    "bitcoin_df = bitcoin_df.withColumn(\"timestamp\", functions.unix_timestamp(\"Date\", 'yyyy-MM-dd hh-aa').cast(\"timestamp\")).drop('Date')\n",
    "bitcoin_df = bitcoin_df.select(col_order).where(\n",
    "    (functions.unix_timestamp(functions.lit('2019-11-17 00:00:00')).cast('timestamp') > bitcoin_df[\"timestamp\"]) & \n",
    "    (bitcoin_df[\"timestamp\"] >= functions.unix_timestamp(functions.lit('2019-11-14 00:00:00')).cast('timestamp'))).sort(\"timestamp\").cache()\n",
    "bitcoin_df = bitcoin_df.select(functions.hour(\"timestamp\").alias(\"hour\"), \"Close\", functions.date_trunc('dd', \"timestamp\").alias('date')).cache()\n",
    "bitcoin_df.show(26)"
   ]
  },
  {
   "cell_type": "code",
   "execution_count": 39,
   "metadata": {},
   "outputs": [
    {
     "name": "stdout",
     "output_type": "stream",
     "text": [
      "+-------------------+--------------------+\n",
      "|          timestamp|               tweet|\n",
      "+-------------------+--------------------+\n",
      "|2019-11-14 00:00:01|b'11/14 09:00\\xe7...|\n",
      "|2019-11-14 00:00:02|b'BitcoinAverage ...|\n",
      "|2019-11-14 00:00:02|b'\\xe3\\x80\\x90Our...|\n",
      "+-------------------+--------------------+\n",
      "only showing top 3 rows\n",
      "\n"
     ]
    }
   ],
   "source": [
    "tweet_df = spark.read.csv(\"tweets\", schema=tweets_schema)\n",
    "tweet_df = tweet_df.withColumn(\"timestamp\", functions.unix_timestamp(\"Date\", 'yyyy-MM-dd HH:mm:ss').cast(\"timestamp\")).drop('Date')\n",
    "tweet_df = tweet_df.select(\"timestamp\", \"tweet\").sort(\"timestamp\").cache()\n",
    "tweet_df = tweet_df.na.drop()\n",
    "\n",
    "tweet_df.show(3)"
   ]
  },
  {
   "cell_type": "code",
   "execution_count": 40,
   "metadata": {},
   "outputs": [
    {
     "name": "stdout",
     "output_type": "stream",
     "text": [
      "+-------------------+--------------------+\n",
      "|          timestamp|       CleanedTweets|\n",
      "+-------------------+--------------------+\n",
      "|2019-11-14 00:00:01|11 14 09 00 xe7 x...|\n",
      "|2019-11-14 00:00:02|BitcoinAverage it...|\n",
      "|2019-11-14 00:00:02|xe3 x80 x90Our Lo...|\n",
      "+-------------------+--------------------+\n",
      "only showing top 3 rows\n",
      "\n"
     ]
    }
   ],
   "source": [
    "import preprocessor as p\n",
    "@functions.udf(returnType=types.StringType())\n",
    "def func_udf(input_str):\n",
    "    input_str = re.sub(r'b', '', input_str)\n",
    "    p.set_options(p.OPT.URL, p.OPT.EMOJI,p.OPT.MENTION)\n",
    "    input_str = p.clean(input_str)\n",
    "    return ' '.join(re.sub(\"(@[A-Za-z0-9]+)|([^0-9A-Za-z \\t])|(\\w+:\\/\\/\\S+)\", \" \", input_str).split())\n",
    "# func_udf = udf(function_udf, StringType())\n",
    "#     return p.clean(input_str)\n",
    "    return intput_str\n",
    "CleanDF = tweet_df.withColumn('CleanedTweets', func_udf(tweet_df['tweet'])).drop(\"tweet\")\n",
    "CleanDF.show(3)"
   ]
  },
  {
   "cell_type": "code",
   "execution_count": 43,
   "metadata": {},
   "outputs": [
    {
     "name": "stdout",
     "output_type": "stream",
     "text": [
      "+-------------------+--------------------+--------+-------+--------+--------+\n",
      "|          timestamp|       CleanedTweets|negative|neutral|positive|compound|\n",
      "+-------------------+--------------------+--------+-------+--------+--------+\n",
      "|2019-11-14 00:00:01|11 14 09 00 xe7 x...|     0.0|    1.0|     0.0|     0.0|\n",
      "|2019-11-14 00:00:02|BitcoinAverage it...|     0.0|    1.0|     0.0|     0.0|\n",
      "|2019-11-14 00:00:02|xe3 x80 x90Our Lo...|     0.0|   0.74|    0.26|  0.8176|\n",
      "|2019-11-14 00:00:02|MercadoBitcoin BT...|     0.0|  0.636|   0.364|  0.6486|\n",
      "|2019-11-14 00:00:02|The Bitcoin BTC p...|     0.0|    1.0|     0.0|     0.0|\n",
      "|2019-11-14 00:00:02|Bitcoin BTC nPric...|     0.0|    1.0|     0.0|     0.0|\n",
      "|2019-11-14 00:00:03|BTCUSD ALERT 24hr...|   0.099|  0.768|   0.133|   0.186|\n",
      "|2019-11-14 00:00:03|New Topic Top Sen...|    0.22|  0.709|   0.071| -0.5859|\n",
      "|2019-11-14 00:00:03|NOW SHILLING PEPE...|     0.0|    1.0|     0.0|     0.0|\n",
      "|2019-11-14 00:00:04|A new post Uncork...|     0.0|    1.0|     0.0|     0.0|\n",
      "|2019-11-14 00:00:05|xe2 x8f x0 03 00 ...|     0.0|    1.0|     0.0|     0.0|\n",
      "|2019-11-14 00:00:05|One Bitcoin now w...|     0.0|  0.888|   0.112|  0.2263|\n",
      "|2019-11-14 00:00:05|Charlotte Hornets...|     0.0|    1.0|     0.0|     0.0|\n",
      "|2019-11-14 00:00:05|2019 11 14 09 00 ...|     0.0|    1.0|     0.0|     0.0|\n",
      "|2019-11-14 00:00:06|xe7 x8f xe xe5 x9...|     0.0|    1.0|     0.0|     0.0|\n",
      "|2019-11-14 00:00:06|DIRV Virtual Surv...|     0.0|  0.791|   0.209|  0.5719|\n",
      "|2019-11-14 00:00:08|BTC xe2 x82 xa50 ...|     0.0|    1.0|     0.0|     0.0|\n",
      "|2019-11-14 00:00:09|1 cent 114 sats s...|     0.0|    1.0|     0.0|     0.0|\n",
      "|2019-11-14 00:00:10|Nov 13 2019 23 59...|     0.0|    1.0|     0.0|     0.0|\n",
      "|2019-11-14 00:00:12|Nov 13 2019 04 00...|     0.0|    1.0|     0.0|     0.0|\n",
      "+-------------------+--------------------+--------+-------+--------+--------+\n",
      "only showing top 20 rows\n",
      "\n"
     ]
    }
   ],
   "source": [
    "from vaderSentiment.vaderSentiment import SentimentIntensityAnalyzer\n",
    "analyser = SentimentIntensityAnalyzer()\n",
    "\n",
    "@functions.udf(returnType=types.ArrayType(types.FloatType()))\n",
    "def senti_score(sentence):\n",
    "    snt = analyser.polarity_scores(sentence)\n",
    "    return ([snt['neg'], snt['neu'], snt['pos'], snt['compound']])\n",
    "\n",
    "CleanDF = CleanDF.withColumn('negative', senti_score(CleanDF['CleanedTweets'])[0])\n",
    "CleanDF = CleanDF.withColumn('neutral', senti_score(CleanDF['CleanedTweets'])[1])\n",
    "CleanDF = CleanDF.withColumn('positive', senti_score(CleanDF['CleanedTweets'])[2])\n",
    "CleanDF = CleanDF.withColumn('compound', senti_score(CleanDF['CleanedTweets'])[3])\n",
    "CleanDF.show(20)"
   ]
  },
  {
   "cell_type": "code",
   "execution_count": 66,
   "metadata": {},
   "outputs": [
    {
     "name": "stdout",
     "output_type": "stream",
     "text": [
      "+-------------------+--------------------+--------+-------+--------+--------+----+-------------------+\n",
      "|          timestamp|       CleanedTweets|negative|neutral|positive|compound|hour|                day|\n",
      "+-------------------+--------------------+--------+-------+--------+--------+----+-------------------+\n",
      "|2019-11-14 00:00:01|11 14 09 00 xe7 x...|     0.0|    1.0|     0.0|     0.0|   1|2019-11-14 00:00:00|\n",
      "|2019-11-14 00:00:02|BitcoinAverage it...|     0.0|    1.0|     0.0|     0.0|   1|2019-11-14 00:00:00|\n",
      "|2019-11-14 00:00:02|xe3 x80 x90Our Lo...|     0.0|   0.74|    0.26|  0.8176|   1|2019-11-14 00:00:00|\n",
      "|2019-11-14 00:00:02|MercadoBitcoin BT...|     0.0|  0.636|   0.364|  0.6486|   1|2019-11-14 00:00:00|\n",
      "|2019-11-14 00:00:02|The Bitcoin BTC p...|     0.0|    1.0|     0.0|     0.0|   1|2019-11-14 00:00:00|\n",
      "|2019-11-14 00:00:02|Bitcoin BTC nPric...|     0.0|    1.0|     0.0|     0.0|   1|2019-11-14 00:00:00|\n",
      "|2019-11-14 00:00:03|BTCUSD ALERT 24hr...|   0.099|  0.768|   0.133|   0.186|   1|2019-11-14 00:00:00|\n",
      "|2019-11-14 00:00:03|New Topic Top Sen...|    0.22|  0.709|   0.071| -0.5859|   1|2019-11-14 00:00:00|\n",
      "|2019-11-14 00:00:03|NOW SHILLING PEPE...|     0.0|    1.0|     0.0|     0.0|   1|2019-11-14 00:00:00|\n",
      "|2019-11-14 00:00:04|A new post Uncork...|     0.0|    1.0|     0.0|     0.0|   1|2019-11-14 00:00:00|\n",
      "|2019-11-14 00:00:05|xe2 x8f x0 03 00 ...|     0.0|    1.0|     0.0|     0.0|   1|2019-11-14 00:00:00|\n",
      "|2019-11-14 00:00:05|One Bitcoin now w...|     0.0|  0.888|   0.112|  0.2263|   1|2019-11-14 00:00:00|\n",
      "|2019-11-14 00:00:05|Charlotte Hornets...|     0.0|    1.0|     0.0|     0.0|   1|2019-11-14 00:00:00|\n",
      "|2019-11-14 00:00:05|2019 11 14 09 00 ...|     0.0|    1.0|     0.0|     0.0|   1|2019-11-14 00:00:00|\n",
      "|2019-11-14 00:00:06|xe7 x8f xe xe5 x9...|     0.0|    1.0|     0.0|     0.0|   1|2019-11-14 00:00:00|\n",
      "|2019-11-14 00:00:06|DIRV Virtual Surv...|     0.0|  0.791|   0.209|  0.5719|   1|2019-11-14 00:00:00|\n",
      "|2019-11-14 00:00:08|BTC xe2 x82 xa50 ...|     0.0|    1.0|     0.0|     0.0|   1|2019-11-14 00:00:00|\n",
      "|2019-11-14 00:00:09|1 cent 114 sats s...|     0.0|    1.0|     0.0|     0.0|   1|2019-11-14 00:00:00|\n",
      "|2019-11-14 00:00:10|Nov 13 2019 23 59...|     0.0|    1.0|     0.0|     0.0|   1|2019-11-14 00:00:00|\n",
      "|2019-11-14 00:00:12|Nov 13 2019 04 00...|     0.0|    1.0|     0.0|     0.0|   1|2019-11-14 00:00:00|\n",
      "+-------------------+--------------------+--------+-------+--------+--------+----+-------------------+\n",
      "only showing top 20 rows\n",
      "\n"
     ]
    }
   ],
   "source": [
    "GroupDF = CleanDF.sort(\"timestamp\").withColumn(\"hour\", functions.hour(\"timestamp\")+1).withColumn(\"day\", functions.date_trunc('dd', \"timestamp\"))\n",
    "GroupDF.show()"
   ]
  },
  {
   "cell_type": "code",
   "execution_count": 70,
   "metadata": {
    "scrolled": true
   },
   "outputs": [
    {
     "name": "stdout",
     "output_type": "stream",
     "text": [
      "+-------------------+----+--------------------+------------------+-------------------+-------------------+\n",
      "|                day|hour|            negative|           neutral|           positive|           compound|\n",
      "+-------------------+----+--------------------+------------------+-------------------+-------------------+\n",
      "|2019-11-14 00:00:00|   1| 0.02353443532730594| 0.904154269655874|0.07231955914745318|0.12222231390883444|\n",
      "|2019-11-14 00:00:00|   2| 0.02700937503250316|0.8911062504164875|0.08188749979017303|0.13332531208870932|\n",
      "|2019-11-14 00:00:00|   3| 0.02580503150586437| 0.903097484659099|0.07111006277267756|0.12360282942840138|\n",
      "|2019-11-14 00:00:00|   4|0.020909968128733313|0.9099581977562122|0.06914469453587026|  0.138334726142155|\n",
      "|2019-11-14 00:00:00|   5|0.021063545301407076|0.8948729094055584|0.08407357860867395| 0.1703842790006196|\n",
      "|2019-11-14 00:00:00|   6|0.022349845341207812|0.9002476776531976|0.07742105273316519| 0.1588634673748223|\n",
      "|2019-11-14 00:00:00|   7|0.022160891074650357|0.9073316838481639|0.07050742607997122| 0.1306544545724398|\n",
      "|2019-11-14 00:00:00|   8| 0.02689176463028964|0.8947105884552002|0.07840235267491902|0.13895505828015944|\n",
      "|2019-11-14 00:00:00|   9| 0.02991460668069593|0.8926224718602855|0.07747415706431598|0.12195280886600526|\n",
      "|2019-11-14 00:00:00|  10|0.032398230330276806|0.9036681413386776|0.06393584074551421|0.09434778740953044|\n",
      "|2019-11-14 00:00:00|  11|0.025099585188313144|0.9124253112745483|0.06247095450666188|0.09272178338987451|\n",
      "|2019-11-14 00:00:00|  12|0.024771855028072144|0.9027356072656636|0.07250106626593356| 0.1378198288587619|\n",
      "|2019-11-14 00:00:00|  13| 0.02623285218696732|0.8968465706931985| 0.0769223826180888|0.13749223808330965|\n",
      "|2019-11-14 00:00:00|  14|0.023039426494349716|0.9066756268876428|0.07027598567253586|0.12724085957292589|\n",
      "|2019-11-14 00:00:00|  15|0.023450413355142002|0.9122975201399859|  0.064260330613056| 0.1078095032933576|\n",
      "|2019-11-14 00:00:00|  16|0.025731898261026395|0.9017299399683854| 0.0725303327704829|0.12509980260115663|\n",
      "|2019-11-14 00:00:00|  17|  0.0284598824110633|0.8966340507196587|0.07490802363632884| 0.1136072401883201|\n",
      "|2019-11-14 00:00:00|  18| 0.01988053942002313|0.9151868979250994|0.06492100199881891|0.11613911288379475|\n",
      "|2019-11-14 00:00:00|  19| 0.02555681835281465|0.8910018929816557|0.08344318186440929|0.14615624937031305|\n",
      "|2019-11-14 00:00:00|  20| 0.02892715251998396|0.8946048561442503|0.07647240641331568|0.11273509772621901|\n",
      "|2019-11-14 00:00:00|  21|0.027039215790436548|0.9040367655163887| 0.0689191176218218|0.10780906784987333|\n",
      "|2019-11-14 00:00:00|  22|0.015509756136594749|0.9185317070018955|0.06596097561826066| 0.1283887799147789|\n",
      "|2019-11-14 00:00:00|  23| 0.03688674707369632|0.8810000001666057|0.08210843412362667|0.12137036063225873|\n",
      "|2019-11-14 00:00:00|  24|0.029397297167294733|0.8879918913180763|0.08262432436081203|0.12934405354631914|\n",
      "|2019-11-15 00:00:00|   1|0.028528767170971386| 0.887183561635344| 0.0843013701424615|0.13297178031340853|\n",
      "|2019-11-15 00:00:00|   2|0.020327823734316287|0.8953856749885996|0.08429752109628735| 0.1562479326979978|\n",
      "+-------------------+----+--------------------+------------------+-------------------+-------------------+\n",
      "only showing top 26 rows\n",
      "\n"
     ]
    }
   ],
   "source": [
    "# GroupDF.sort(\"hour\").show(25)\n",
    "GroupDF = GroupDF.groupBy('day', 'hour').agg(functions.mean('negative').alias('negative'), functions.mean('neutral').alias('neutral'), functions.mean('positive').alias('positive'), functions.mean('compound').alias('compound')).cache()\n",
    "GroupDF.sort(\"day\", 'hour').show(26)\n"
   ]
  },
  {
   "cell_type": "code",
   "execution_count": 81,
   "metadata": {},
   "outputs": [],
   "source": [
    "w =Window.partitionBy('day').orderBy(functions.col(\"hour\").cast('long'))\n",
    "join_df = GroupDF.join(bitcoin_df, (GroupDF[\"hour\"] == bitcoin_df[\"hour\"])&(GroupDF['day']==bitcoin_df['date'])).select(GroupDF[\"*\"],bitcoin_df[\"Close\"])\n",
    "# join_df = join_df.sort(\"hour\").withColumn(\"Price\", functions.lag(\"Close\", count=-1).over(w))\n",
    "join_df = join_df.select(\"hour\", \"day\", \"Close\", \"negative\", \"neutral\", \"positive\", \"compound\").na.drop()"
   ]
  },
  {
   "cell_type": "code",
   "execution_count": 82,
   "metadata": {},
   "outputs": [
    {
     "name": "stdout",
     "output_type": "stream",
     "text": [
      "+----+-------------------+-------+--------------------+------------------+-------------------+-------------------+\n",
      "|hour|                day|  Close|            negative|           neutral|           positive|           compound|\n",
      "+----+-------------------+-------+--------------------+------------------+-------------------+-------------------+\n",
      "|   1|2019-11-14 00:00:00| 9024.4| 0.02353443532730594| 0.904154269655874|0.07231955914745318|0.12222231390883444|\n",
      "|   2|2019-11-14 00:00:00|8978.68| 0.02700937503250316|0.8911062504164875|0.08188749979017303|0.13332531208870932|\n",
      "|   3|2019-11-14 00:00:00| 9024.5| 0.02580503150586437| 0.903097484659099|0.07111006277267756|0.12360282942840138|\n",
      "|   4|2019-11-14 00:00:00|8946.14|0.020909968128733313|0.9099581977562122|0.06914469453587026|  0.138334726142155|\n",
      "|   5|2019-11-14 00:00:00|8931.31|0.021063545301407076|0.8948729094055584|0.08407357860867395| 0.1703842790006196|\n",
      "|   6|2019-11-14 00:00:00| 8972.2|0.022349845341207812|0.9002476776531976|0.07742105273316519| 0.1588634673748223|\n",
      "|   7|2019-11-14 00:00:00| 8926.0|0.022160891074650357|0.9073316838481639|0.07050742607997122| 0.1306544545724398|\n",
      "|   8|2019-11-14 00:00:00| 8861.0| 0.02689176463028964|0.8947105884552002|0.07840235267491902|0.13895505828015944|\n",
      "|   9|2019-11-14 00:00:00|8884.04| 0.02991460668069593|0.8926224718602855|0.07747415706431598|0.12195280886600526|\n",
      "|  10|2019-11-14 00:00:00|8873.13|0.032398230330276806|0.9036681413386776|0.06393584074551421|0.09434778740953044|\n",
      "|  11|2019-11-14 00:00:00|8906.35|0.025099585188313144|0.9124253112745483|0.06247095450666188|0.09272178338987451|\n",
      "|  12|2019-11-14 00:00:00|8877.01|0.024771855028072144|0.9027356072656636|0.07250106626593356| 0.1378198288587619|\n",
      "|  13|2019-11-14 00:00:00| 8961.0| 0.02623285218696732|0.8968465706931985| 0.0769223826180888|0.13749223808330965|\n",
      "|  14|2019-11-14 00:00:00|8948.84|0.023039426494349716|0.9066756268876428|0.07027598567253586|0.12724085957292589|\n",
      "|  15|2019-11-14 00:00:00|8923.47|0.023450413355142002|0.9122975201399859|  0.064260330613056| 0.1078095032933576|\n",
      "|  16|2019-11-14 00:00:00|8922.01|0.025731898261026395|0.9017299399683854| 0.0725303327704829|0.12509980260115663|\n",
      "|  17|2019-11-14 00:00:00|8927.97|  0.0284598824110633|0.8966340507196587|0.07490802363632884| 0.1136072401883201|\n",
      "|  18|2019-11-14 00:00:00|8913.35| 0.01988053942002313|0.9151868979250994|0.06492100199881891|0.11613911288379475|\n",
      "|  19|2019-11-14 00:00:00|8903.64| 0.02555681835281465|0.8910018929816557|0.08344318186440929|0.14615624937031305|\n",
      "|  20|2019-11-14 00:00:00|8939.67| 0.02892715251998396|0.8946048561442503|0.07647240641331568|0.11273509772621901|\n",
      "|  21|2019-11-14 00:00:00|8905.13|0.027039215790436548|0.9040367655163887| 0.0689191176218218|0.10780906784987333|\n",
      "|  22|2019-11-14 00:00:00|8887.42|0.015509756136594749|0.9185317070018955|0.06596097561826066| 0.1283887799147789|\n",
      "|  23|2019-11-14 00:00:00|8903.94| 0.03688674707369632|0.8810000001666057|0.08210843412362667|0.12137036063225873|\n",
      "|   1|2019-11-15 00:00:00|8815.67|0.028528767170971386| 0.887183561635344| 0.0843013701424615|0.13297178031340853|\n",
      "+----+-------------------+-------+--------------------+------------------+-------------------+-------------------+\n",
      "only showing top 24 rows\n",
      "\n"
     ]
    }
   ],
   "source": [
    "join_df.sort(\"day\", \"hour\").show(24)"
   ]
  },
  {
   "cell_type": "code",
   "execution_count": 83,
   "metadata": {},
   "outputs": [
    {
     "name": "stdout",
     "output_type": "stream",
     "text": [
      "+----+-------------------+-------+--------------------+------------------+-------------------+-------------------+--------------------+--------------------+-------------------+------------------+------------------+------------------+-------------------+-------------------+-------------------+------------------+------------------+-------------------+\n",
      "|hour|                day|  Close|            negative|           neutral|           positive|           compound|      negative_lag_1|      negative_lag_2|     negative_lag_3|     neutral_lag_1|     neutral_lag_2|     neutral_lag_3|     positive_lag_1|     positive_lag_2|     positive_lag_3|    compound_lag_1|    compound_lag_2|     compound_lag_3|\n",
      "+----+-------------------+-------+--------------------+------------------+-------------------+-------------------+--------------------+--------------------+-------------------+------------------+------------------+------------------+-------------------+-------------------+-------------------+------------------+------------------+-------------------+\n",
      "|   4|2019-11-16 00:00:00|8774.53|    0.01626720650476|0.9080607287796886|0.07567611350282001| 0.1590238854379548|0.025603225983438952| 0.02983643120106268| 0.0383815026890508|0.8941225807032277| 0.892609664941809|0.8871098259797675| 0.0802838712329826|0.07756505582523168|0.07451156058989336|0.1318983856949114| 0.095049069931239|0.10336734028263933|\n",
      "|   5|2019-11-16 00:00:00| 8779.0|0.019636363722383976|0.8967992418417425|0.08356439384321372|0.15350568071572165|    0.01626720650476|0.025603225983438952|0.02983643120106268|0.9080607287796886|0.8941225807032277| 0.892609664941809|0.07567611350282001| 0.0802838712329826|0.07756505582523168|0.1590238854379548|0.1318983856949114|  0.095049069931239|\n",
      "+----+-------------------+-------+--------------------+------------------+-------------------+-------------------+--------------------+--------------------+-------------------+------------------+------------------+------------------+-------------------+-------------------+-------------------+------------------+------------------+-------------------+\n",
      "only showing top 2 rows\n",
      "\n"
     ]
    }
   ],
   "source": [
    "for feature in tweet_col:\n",
    "    for diff in range(1, 4):\n",
    "        name = feature + \"_lag_{}\".format(diff)\n",
    "        join_df = join_df.withColumn(name, functions.lag(join_df[feature], count=diff).over(w))\n",
    "\n",
    "join_df = join_df.na.drop()\n",
    "join_df.show(2)"
   ]
  },
  {
   "cell_type": "code",
   "execution_count": 85,
   "metadata": {},
   "outputs": [
    {
     "name": "stdout",
     "output_type": "stream",
     "text": [
      "+----+-------------------+-------+\n",
      "|hour|                day|  Close|\n",
      "+----+-------------------+-------+\n",
      "|   4|2019-11-16 00:00:00|8774.53|\n",
      "|   5|2019-11-16 00:00:00| 8779.0|\n",
      "|   6|2019-11-16 00:00:00|8768.66|\n",
      "|   7|2019-11-16 00:00:00|8759.11|\n",
      "|   8|2019-11-16 00:00:00| 8773.6|\n",
      "|   9|2019-11-16 00:00:00|8792.58|\n",
      "|  10|2019-11-16 00:00:00|8792.42|\n",
      "|  11|2019-11-16 00:00:00|8767.85|\n",
      "|  12|2019-11-16 00:00:00|8779.67|\n",
      "|  13|2019-11-16 00:00:00|8770.65|\n",
      "|  14|2019-11-16 00:00:00|8767.61|\n",
      "|  15|2019-11-16 00:00:00| 8792.0|\n",
      "|  16|2019-11-16 00:00:00|8789.78|\n",
      "|  17|2019-11-16 00:00:00|8764.79|\n",
      "|  18|2019-11-16 00:00:00| 8765.0|\n",
      "|  19|2019-11-16 00:00:00|8761.04|\n",
      "|  20|2019-11-16 00:00:00|8764.53|\n",
      "|  21|2019-11-16 00:00:00|8779.13|\n",
      "|  22|2019-11-16 00:00:00|8767.18|\n",
      "|  23|2019-11-16 00:00:00|8774.37|\n",
      "|   4|2019-11-14 00:00:00|8946.14|\n",
      "|   5|2019-11-14 00:00:00|8931.31|\n",
      "|   6|2019-11-14 00:00:00| 8972.2|\n",
      "|   7|2019-11-14 00:00:00| 8926.0|\n",
      "|   8|2019-11-14 00:00:00| 8861.0|\n",
      "|   9|2019-11-14 00:00:00|8884.04|\n",
      "|  10|2019-11-14 00:00:00|8873.13|\n",
      "|  11|2019-11-14 00:00:00|8906.35|\n",
      "|  12|2019-11-14 00:00:00|8877.01|\n",
      "|  13|2019-11-14 00:00:00| 8961.0|\n",
      "|  14|2019-11-14 00:00:00|8948.84|\n",
      "|  15|2019-11-14 00:00:00|8923.47|\n",
      "|  16|2019-11-14 00:00:00|8922.01|\n",
      "|  17|2019-11-14 00:00:00|8927.97|\n",
      "|  18|2019-11-14 00:00:00|8913.35|\n",
      "|  19|2019-11-14 00:00:00|8903.64|\n",
      "|  20|2019-11-14 00:00:00|8939.67|\n",
      "|  21|2019-11-14 00:00:00|8905.13|\n",
      "|  22|2019-11-14 00:00:00|8887.42|\n",
      "|  23|2019-11-14 00:00:00|8903.94|\n",
      "+----+-------------------+-------+\n",
      "only showing top 40 rows\n",
      "\n"
     ]
    }
   ],
   "source": [
    "join_df.select(\"hour\", \"day\", \"Close\").show(40)"
   ]
  },
  {
   "cell_type": "code",
   "execution_count": 87,
   "metadata": {},
   "outputs": [
    {
     "data": {
      "text/plain": [
       "['negative',\n",
       " 'negative_lag_1',\n",
       " 'negative_lag_2',\n",
       " 'negative_lag_3',\n",
       " 'neutral',\n",
       " 'neutral_lag_1',\n",
       " 'neutral_lag_2',\n",
       " 'neutral_lag_3',\n",
       " 'positive',\n",
       " 'positive_lag_1',\n",
       " 'positive_lag_2',\n",
       " 'positive_lag_3',\n",
       " 'compound',\n",
       " 'compound_lag_1',\n",
       " 'compound_lag_2',\n",
       " 'compound_lag_3']"
      ]
     },
     "execution_count": 87,
     "metadata": {},
     "output_type": "execute_result"
    }
   ],
   "source": [
    "featureCols = []\n",
    "for feature in tweet_col:\n",
    "    featureCols.append(feature)\n",
    "    for diff in range(1, 4):\n",
    "        featureCols.append(feature + \"_lag_{}\".format(diff))\n",
    "featureCols"
   ]
  },
  {
   "cell_type": "code",
   "execution_count": 88,
   "metadata": {},
   "outputs": [
    {
     "name": "stdout",
     "output_type": "stream",
     "text": [
      "+----+-------------------+-------+--------------------+------------------+-------------------+------------------+--------------------+-------------------+--------------------+------------------+------------------+------------------+-------------------+-------------------+-------------------+-------------------+------------------+-------------------+\n",
      "|hour|                day|  Close|            negative|           neutral|           positive|          compound|      negative_lag_1|     negative_lag_2|      negative_lag_3|     neutral_lag_1|     neutral_lag_2|     neutral_lag_3|     positive_lag_1|     positive_lag_2|     positive_lag_3|     compound_lag_1|    compound_lag_2|     compound_lag_3|\n",
      "+----+-------------------+-------+--------------------+------------------+-------------------+------------------+--------------------+-------------------+--------------------+------------------+------------------+------------------+-------------------+-------------------+-------------------+-------------------+------------------+-------------------+\n",
      "|   4|2019-11-16 00:00:00|8774.53|    0.01626720650476|0.9080607287796886|0.07567611350282001|0.1590238854379548|0.025603225983438952|0.02983643120106268|  0.0383815026890508|0.8941225807032277| 0.892609664941809|0.8871098259797675| 0.0802838712329826|0.07756505582523168|0.07451156058989336| 0.1318983856949114| 0.095049069931239|0.10336734028263933|\n",
      "|   6|2019-11-16 00:00:00|8768.66|0.021247899238051485|0.9036890739152411|0.07506302496840973|0.1483575618442367|0.019636363722383976|   0.01626720650476|0.025603225983438952|0.8967992418417425|0.9080607287796886|0.8941225807032277|0.08356439384321372|0.07567611350282001| 0.0802838712329826|0.15350568071572165|0.1590238854379548| 0.1318983856949114|\n",
      "+----+-------------------+-------+--------------------+------------------+-------------------+------------------+--------------------+-------------------+--------------------+------------------+------------------+------------------+-------------------+-------------------+-------------------+-------------------+------------------+-------------------+\n",
      "only showing top 2 rows\n",
      "\n"
     ]
    }
   ],
   "source": [
    "train, validation = join_df.randomSplit([0.75, 0.25])\n",
    "train = train.cache()\n",
    "validation = validation.cache()\n",
    "train.show(2)"
   ]
  },
  {
   "cell_type": "code",
   "execution_count": 100,
   "metadata": {},
   "outputs": [],
   "source": [
    "assembler = VectorAssembler(\n",
    "        inputCols= featureCols,\n",
    "        outputCol='features'\n",
    "\n",
    ")\n",
    "\n",
    "regressor = GBTRegressor(featuresCol = 'features', labelCol = 'Close')"
   ]
  },
  {
   "cell_type": "code",
   "execution_count": 101,
   "metadata": {},
   "outputs": [],
   "source": [
    "pipeline = Pipeline(stages=[assembler, regressor])\n",
    "model = pipeline.fit(train)"
   ]
  },
  {
   "cell_type": "code",
   "execution_count": 102,
   "metadata": {},
   "outputs": [
    {
     "name": "stdout",
     "output_type": "stream",
     "text": [
      "+-----------------+-------+\n",
      "|       prediction|  Close|\n",
      "+-----------------+-------+\n",
      "|8949.581874857779| 8779.0|\n",
      "|8917.387806871973|8759.11|\n",
      "| 8933.05939666426| 8773.6|\n",
      "| 8768.33745460605|8779.67|\n",
      "|8934.780148528755|8789.78|\n",
      "+-----------------+-------+\n",
      "only showing top 5 rows\n",
      "\n"
     ]
    }
   ],
   "source": [
    "predictions = model.transform(validation)\n",
    "someDF = predictions.select(\"prediction\", \"Close\").show(5)"
   ]
  },
  {
   "cell_type": "code",
   "execution_count": 103,
   "metadata": {},
   "outputs": [
    {
     "data": {
      "image/png": "[encoded data removed]",
      "text/plain": [
       "<Figure size 432x288 with 1 Axes>"
      ]
     },
     "metadata": {
      "needs_background": "light"
     },
     "output_type": "display_data"
    }
   ],
   "source": [
    "predictions = predictions.toPandas().head()\n",
    "plt.plot(predictions['Close'])\n",
    "plt.plot(predictions['prediction'])\n",
    "plt.show()"
   ]
  },
  {
   "cell_type": "code",
   "execution_count": 92,
   "metadata": {},
   "outputs": [
    {
     "name": "stdout",
     "output_type": "stream",
     "text": [
      "R square error is: -0.883336\n"
     ]
    }
   ],
   "source": [
    "evaluator = RegressionEvaluator(predictionCol=\"prediction\", labelCol=\"Close\", metricName=\"r2\")\n",
    "score = evaluator.evaluate(predictions)\n",
    "\n",
    "print('R square error is: %g' % (score))"
   ]
  },
  {
   "cell_type": "code",
   "execution_count": null,
   "metadata": {},
   "outputs": [],
   "source": [
    "from pyspark.sql import Row\n",
    "Person = [Row('name', 'age'), ]\n",
    "person = rdd.map(lambda r: Person(*r))\n",
    "df2 = spark.createDataFrame(person)"
   ]
  }
 ],
 "metadata": {
  "kernelspec": {
   "display_name": "Python 3",
   "language": "python",
   "name": "python3"
  },
  "language_info": {
   "codemirror_mode": {
    "name": "ipython",
    "version": 3
   },
   "file_extension": ".py",
   "mimetype": "text/x-python",
   "name": "python",
   "nbconvert_exporter": "python",
   "pygments_lexer": "ipython3",
   "version": "3.7.4"
  }
 },
 "nbformat": 4,
 "nbformat_minor": 2
}
